{
 "cells": [
  {
   "cell_type": "code",
   "execution_count": 2,
   "metadata": {
    "collapsed": true,
    "pycharm": {
     "is_executing": false
    }
   },
   "outputs": [],
   "source": [
    "from sonosco.training import Experiment\n",
    "from sonosco.common.path_utils import parse_yaml\n",
    "from sonosco.datasets import create_data_loaders\n",
    "import torch.nn as nn\n"
   ]
  },
  {
   "cell_type": "code",
   "execution_count": 7,
   "outputs": [],
   "source": [
    "class View(nn.Module):\n",
    "    def __init__(self, shape):\n",
    "        super(View, self).__init__()\n",
    "        self.shape = shape\n",
    "        \n",
    "    def forward(self, input):\n",
    "        return input.view(self.shape)\n",
    "\n",
    "class Reorder(nn.Module):\n",
    "    def __init__(self, shape):\n",
    "        super(Reorder, self).__init__()\n",
    "        self.shape = shape\n",
    "        \n",
    "    def forward(self, input):\n",
    "        return input.permute(self.shape)"
   ],
   "metadata": {
    "collapsed": false,
    "pycharm": {
     "name": "#%%\n",
     "is_executing": false
    }
   }
  },
  {
   "cell_type": "code",
   "execution_count": 17,
   "outputs": [],
   "source": [
    "class TDSBlock(nn.Module):\n",
    "    \n",
    "    def __init__(self, c: int, kw: int, h: int, dropout: float)-> None:\n",
    "        super().__init__()\n",
    "        l:int = c * h\n",
    "        self.conv = nn.Sequential(\n",
    "            nn.Conv2d(1, 10, kernel_size=(21, 1), stride=(2, 1), padding=(20, 5)), #calc padding\n",
    "            nn.ReLU(),\n",
    "            nn.Dropout2d(0.2),\n",
    "            nn.LayerNorm(3),\n",
    "            View((-1,l,1,0)),\n",
    "            Reorder((1,0,2,3)),\n",
    "            nn.Linear(l,l),\n",
    "            nn.ReLU(),\n",
    "            nn.Dropout2d(dropout),\n",
    "            nn.Linear(l,l),\n",
    "            Reorder((1,0,2,3)),\n",
    "            View((-1,h,c,0)),\n",
    "            nn.Dropout2d(dropout),\n",
    "            nn.LayerNorm(3)\n",
    "        )\n",
    "        \n",
    "    def forward(self, *input):\n",
    "        return self.conv(input)"
   ],
   "metadata": {
    "collapsed": false,
    "pycharm": {
     "name": "#%% \n",
     "is_executing": false
    }
   }
  },
  {
   "cell_type": "code",
   "execution_count": 13,
   "outputs": [],
   "source": [
    "b = TDSBlock(1,2,3,0.5)\n"
   ],
   "metadata": {
    "collapsed": false,
    "pycharm": {
     "name": "#%%\n",
     "is_executing": false
    }
   }
  },
  {
   "cell_type": "code",
   "execution_count": 14,
   "outputs": [],
   "source": [
    "Experiment.create(\"CV_STS\")\n",
    "config = parse_yaml(\"./config.yaml\")[\"train\"]"
   ],
   "metadata": {
    "collapsed": false,
    "pycharm": {
     "name": "#%%\n",
     "is_executing": false
    }
   }
  },
  {
   "cell_type": "code",
   "execution_count": 15,
   "outputs": [],
   "source": [
    "train_loader, val_loader = create_data_loaders(**config)\n"
   ],
   "metadata": {
    "collapsed": false,
    "pycharm": {
     "name": "#%%\n",
     "is_executing": false
    }
   }
  },
  {
   "cell_type": "code",
   "execution_count": 18,
   "outputs": [],
   "source": [
    "net = nn.Sequential(\n",
    "            nn.Conv2d(1, 10, kernel_size=(21, 1), stride=(2, 1), padding=(20, 5)), #calc padding\n",
    "            nn.ReLU(),\n",
    "            nn.Dropout2d(0.2),\n",
    "            nn.LayerNorm(3),\n",
    "            TDSBlock(10,21,82,0.2),\n",
    "            TDSBlock(10,21,82,0.2),\n",
    "            nn.Conv2d(10, 14, kernel_size=(21, 1), stride=(2, 1), padding=(20, 5)), #calc padding\n",
    "            nn.ReLU(),\n",
    "            nn.Dropout2d(0.2),\n",
    "            nn.LayerNorm(3),\n",
    "            TDSBlock(10,21,82,0.2),\n",
    "            TDSBlock(10,21,82,0.2),\n",
    "            TDSBlock(10,21,82,0.2),\n",
    "            nn.Conv2d(14, 18, kernel_size=(21, 1), stride=(2, 1), padding=(20, 5)), #calc padding\n",
    "            nn.ReLU(),\n",
    "            nn.Dropout2d(0.2),\n",
    "            nn.LayerNorm(3),\n",
    "            TDSBlock(10,21,82,0.2),\n",
    "            TDSBlock(10,21,82,0.2),\n",
    "            TDSBlock(10,21,82,0.2),\n",
    "            TDSBlock(10,21,82,0.2),\n",
    "            TDSBlock(10,21,82,0.2),\n",
    "            TDSBlock(10,21,82,0.2),\n",
    "            View((-1,1440,1,0)),\n",
    "            Reorder((1,0,3,2)),\n",
    "            nn.Linear(1440,1024),\n",
    "        )"
   ],
   "metadata": {
    "collapsed": false,
    "pycharm": {
     "name": "#%%\n",
     "is_executing": false
    }
   }
  },
  {
   "cell_type": "code",
   "execution_count": null,
   "outputs": [],
   "source": [],
   "metadata": {
    "collapsed": false,
    "pycharm": {
     "name": "#%%\n"
    }
   }
  },
  {
   "cell_type": "code",
   "execution_count": null,
   "outputs": [],
   "source": [
    "\n"
   ],
   "metadata": {
    "collapsed": false,
    "pycharm": {
     "name": "#%%\n"
    }
   }
  }
 ],
 "metadata": {
  "language_info": {
   "codemirror_mode": {
    "name": "ipython",
    "version": 2
   },
   "file_extension": ".py",
   "mimetype": "text/x-python",
   "name": "python",
   "nbconvert_exporter": "python",
   "pygments_lexer": "ipython2",
   "version": "2.7.6"
  },
  "kernelspec": {
   "name": "pycharm-76d456f9",
   "language": "python",
   "display_name": "PyCharm (sonosco)"
  },
  "pycharm": {
   "stem_cell": {
    "cell_type": "raw",
    "source": [],
    "metadata": {
     "collapsed": false
    }
   }
  }
 },
 "nbformat": 4,
 "nbformat_minor": 0
}