{
 "cells": [
  {
   "cell_type": "code",
   "execution_count": 1,
   "metadata": {
    "pycharm": {
     "is_executing": false
    }
   },
   "outputs": [],
   "source": [
    "%load_ext autoreload\n",
    "%autoreload 2"
   ]
  },
  {
   "cell_type": "code",
   "execution_count": 2,
   "metadata": {
    "pycharm": {
     "is_executing": false
    }
   },
   "outputs": [],
   "source": [
    "import torch.nn.functional as torch_functional\n",
    "import torch.nn as nn\n",
    "import torch\n",
    "import numpy as np\n",
    "import logging\n",
    "\n",
    "from sonosco.common.constants import SONOSCO\n",
    "from sonosco.models.seq2seq_tds import TDSEncoder, TDSDecoder, TDSSeq2Seq\n",
    "from sonosco.training import Experiment, ModelTrainer\n",
    "from sonosco.common.path_utils import parse_yaml\n",
    "from sonosco.datasets import create_data_loaders\n",
    "from sonosco.common.utils import setup_logging"
   ]
  },
  {
   "cell_type": "code",
   "execution_count": 3,
   "metadata": {},
   "outputs": [],
   "source": [
    "config_path = \"../sonosco/config/train_seq2seq_tds.yaml\"\n",
    "config = parse_yaml(config_path)[\"train\"]\n",
    "LOGGER = logging.getLogger(SONOSCO)\n",
    "setup_logging(LOGGER)"
   ]
  },
  {
   "cell_type": "code",
   "execution_count": 4,
   "metadata": {},
   "outputs": [
    {
     "name": "stderr",
     "output_type": "stream",
     "text": [
      "2019-08-07 12:05:52,583 - sonosco.models.seq2seq_tds - INFO - ===== Initialize TDSEncoder =====\n",
      "2019-08-07 12:05:52,609 - sonosco.models.seq2seq_tds - INFO - Initialize bridge.fc.weight with uniform / 0.037\n",
      "2019-08-07 12:05:52,610 - sonosco.models.seq2seq_tds - INFO - Initialize bridge.fc.bias with constant / 0.000\n",
      "2019-08-07 12:05:52,612 - sonosco.models.seq2seq_tds - INFO - Initialize layers.subsample0.conv1d.weight with uniform / 1.414\n",
      "2019-08-07 12:05:52,613 - sonosco.models.seq2seq_tds - INFO - Initialize layers.subsample0.conv1d.bias with constant / 0.000\n",
      "2019-08-07 12:05:52,615 - sonosco.models.seq2seq_tds - INFO - Initialize layers.subsample0.layer_norm.weight with constant / 0.000\n",
      "2019-08-07 12:05:52,617 - sonosco.models.seq2seq_tds - INFO - Initialize layers.subsample0.layer_norm.bias with constant / 0.000\n",
      "2019-08-07 12:05:52,619 - sonosco.models.seq2seq_tds - INFO - Initialize layers.tds10_block0.conv2d.weight with uniform / 0.138\n",
      "2019-08-07 12:05:52,620 - sonosco.models.seq2seq_tds - INFO - Initialize layers.tds10_block0.conv2d.bias with constant / 0.000\n",
      "2019-08-07 12:05:52,622 - sonosco.models.seq2seq_tds - INFO - Initialize layers.tds10_block0.layer_norm1.weight with constant / 0.000\n",
      "2019-08-07 12:05:52,623 - sonosco.models.seq2seq_tds - INFO - Initialize layers.tds10_block0.layer_norm1.bias with constant / 0.000\n",
      "2019-08-07 12:05:52,653 - sonosco.models.seq2seq_tds - INFO - Initialize layers.tds10_block0.conv1d_1.weight with uniform / 0.050\n",
      "2019-08-07 12:05:52,654 - sonosco.models.seq2seq_tds - INFO - Initialize layers.tds10_block0.conv1d_1.bias with constant / 0.000\n",
      "2019-08-07 12:05:52,682 - sonosco.models.seq2seq_tds - INFO - Initialize layers.tds10_block0.conv1d_2.weight with uniform / 0.050\n",
      "2019-08-07 12:05:52,683 - sonosco.models.seq2seq_tds - INFO - Initialize layers.tds10_block0.conv1d_2.bias with constant / 0.000\n",
      "2019-08-07 12:05:52,685 - sonosco.models.seq2seq_tds - INFO - Initialize layers.tds10_block0.layer_norm2.weight with constant / 0.000\n",
      "2019-08-07 12:05:52,686 - sonosco.models.seq2seq_tds - INFO - Initialize layers.tds10_block0.layer_norm2.bias with constant / 0.000\n",
      "2019-08-07 12:05:52,688 - sonosco.models.seq2seq_tds - INFO - Initialize layers.tds10_block1.conv2d.weight with uniform / 0.138\n",
      "2019-08-07 12:05:52,689 - sonosco.models.seq2seq_tds - INFO - Initialize layers.tds10_block1.conv2d.bias with constant / 0.000\n",
      "2019-08-07 12:05:52,692 - sonosco.models.seq2seq_tds - INFO - Initialize layers.tds10_block1.layer_norm1.weight with constant / 0.000\n",
      "2019-08-07 12:05:52,694 - sonosco.models.seq2seq_tds - INFO - Initialize layers.tds10_block1.layer_norm1.bias with constant / 0.000\n",
      "2019-08-07 12:05:52,730 - sonosco.models.seq2seq_tds - INFO - Initialize layers.tds10_block1.conv1d_1.weight with uniform / 0.050\n",
      "2019-08-07 12:05:52,732 - sonosco.models.seq2seq_tds - INFO - Initialize layers.tds10_block1.conv1d_1.bias with constant / 0.000\n",
      "2019-08-07 12:05:52,761 - sonosco.models.seq2seq_tds - INFO - Initialize layers.tds10_block1.conv1d_2.weight with uniform / 0.050\n",
      "2019-08-07 12:05:52,762 - sonosco.models.seq2seq_tds - INFO - Initialize layers.tds10_block1.conv1d_2.bias with constant / 0.000\n",
      "2019-08-07 12:05:52,764 - sonosco.models.seq2seq_tds - INFO - Initialize layers.tds10_block1.layer_norm2.weight with constant / 0.000\n",
      "2019-08-07 12:05:52,768 - sonosco.models.seq2seq_tds - INFO - Initialize layers.tds10_block1.layer_norm2.bias with constant / 0.000\n",
      "2019-08-07 12:05:52,769 - sonosco.models.seq2seq_tds - INFO - Initialize layers.subsample2.conv1d.weight with uniform / 0.447\n",
      "2019-08-07 12:05:52,774 - sonosco.models.seq2seq_tds - INFO - Initialize layers.subsample2.conv1d.bias with constant / 0.000\n",
      "2019-08-07 12:05:52,776 - sonosco.models.seq2seq_tds - INFO - Initialize layers.subsample2.layer_norm.weight with constant / 0.000\n",
      "2019-08-07 12:05:52,777 - sonosco.models.seq2seq_tds - INFO - Initialize layers.subsample2.layer_norm.bias with constant / 0.000\n",
      "2019-08-07 12:05:52,779 - sonosco.models.seq2seq_tds - INFO - Initialize layers.tds14_block2.conv2d.weight with uniform / 0.117\n",
      "2019-08-07 12:05:52,780 - sonosco.models.seq2seq_tds - INFO - Initialize layers.tds14_block2.conv2d.bias with constant / 0.000\n",
      "2019-08-07 12:05:52,782 - sonosco.models.seq2seq_tds - INFO - Initialize layers.tds14_block2.layer_norm1.weight with constant / 0.000\n",
      "2019-08-07 12:05:52,786 - sonosco.models.seq2seq_tds - INFO - Initialize layers.tds14_block2.layer_norm1.bias with constant / 0.000\n",
      "2019-08-07 12:05:52,838 - sonosco.models.seq2seq_tds - INFO - Initialize layers.tds14_block2.conv1d_1.weight with uniform / 0.042\n",
      "2019-08-07 12:05:52,839 - sonosco.models.seq2seq_tds - INFO - Initialize layers.tds14_block2.conv1d_1.bias with constant / 0.000\n",
      "2019-08-07 12:05:52,881 - sonosco.models.seq2seq_tds - INFO - Initialize layers.tds14_block2.conv1d_2.weight with uniform / 0.042\n",
      "2019-08-07 12:05:52,882 - sonosco.models.seq2seq_tds - INFO - Initialize layers.tds14_block2.conv1d_2.bias with constant / 0.000\n",
      "2019-08-07 12:05:52,883 - sonosco.models.seq2seq_tds - INFO - Initialize layers.tds14_block2.layer_norm2.weight with constant / 0.000\n",
      "2019-08-07 12:05:52,884 - sonosco.models.seq2seq_tds - INFO - Initialize layers.tds14_block2.layer_norm2.bias with constant / 0.000\n",
      "2019-08-07 12:05:52,885 - sonosco.models.seq2seq_tds - INFO - Initialize layers.tds14_block3.conv2d.weight with uniform / 0.117\n",
      "2019-08-07 12:05:52,887 - sonosco.models.seq2seq_tds - INFO - Initialize layers.tds14_block3.conv2d.bias with constant / 0.000\n",
      "2019-08-07 12:05:52,888 - sonosco.models.seq2seq_tds - INFO - Initialize layers.tds14_block3.layer_norm1.weight with constant / 0.000\n",
      "2019-08-07 12:05:52,890 - sonosco.models.seq2seq_tds - INFO - Initialize layers.tds14_block3.layer_norm1.bias with constant / 0.000\n",
      "2019-08-07 12:05:52,938 - sonosco.models.seq2seq_tds - INFO - Initialize layers.tds14_block3.conv1d_1.weight with uniform / 0.042\n",
      "2019-08-07 12:05:52,939 - sonosco.models.seq2seq_tds - INFO - Initialize layers.tds14_block3.conv1d_1.bias with constant / 0.000\n",
      "2019-08-07 12:05:52,983 - sonosco.models.seq2seq_tds - INFO - Initialize layers.tds14_block3.conv1d_2.weight with uniform / 0.042\n",
      "2019-08-07 12:05:52,984 - sonosco.models.seq2seq_tds - INFO - Initialize layers.tds14_block3.conv1d_2.bias with constant / 0.000\n",
      "2019-08-07 12:05:52,985 - sonosco.models.seq2seq_tds - INFO - Initialize layers.tds14_block3.layer_norm2.weight with constant / 0.000\n",
      "2019-08-07 12:05:52,986 - sonosco.models.seq2seq_tds - INFO - Initialize layers.tds14_block3.layer_norm2.bias with constant / 0.000\n",
      "2019-08-07 12:05:52,986 - sonosco.models.seq2seq_tds - INFO - Initialize layers.tds14_block4.conv2d.weight with uniform / 0.117\n",
      "2019-08-07 12:05:52,989 - sonosco.models.seq2seq_tds - INFO - Initialize layers.tds14_block4.conv2d.bias with constant / 0.000\n",
      "2019-08-07 12:05:52,989 - sonosco.models.seq2seq_tds - INFO - Initialize layers.tds14_block4.layer_norm1.weight with constant / 0.000\n",
      "2019-08-07 12:05:52,991 - sonosco.models.seq2seq_tds - INFO - Initialize layers.tds14_block4.layer_norm1.bias with constant / 0.000\n",
      "2019-08-07 12:05:53,040 - sonosco.models.seq2seq_tds - INFO - Initialize layers.tds14_block4.conv1d_1.weight with uniform / 0.042\n",
      "2019-08-07 12:05:53,041 - sonosco.models.seq2seq_tds - INFO - Initialize layers.tds14_block4.conv1d_1.bias with constant / 0.000\n",
      "2019-08-07 12:05:53,084 - sonosco.models.seq2seq_tds - INFO - Initialize layers.tds14_block4.conv1d_2.weight with uniform / 0.042\n",
      "2019-08-07 12:05:53,085 - sonosco.models.seq2seq_tds - INFO - Initialize layers.tds14_block4.conv1d_2.bias with constant / 0.000\n",
      "2019-08-07 12:05:53,086 - sonosco.models.seq2seq_tds - INFO - Initialize layers.tds14_block4.layer_norm2.weight with constant / 0.000\n",
      "2019-08-07 12:05:53,088 - sonosco.models.seq2seq_tds - INFO - Initialize layers.tds14_block4.layer_norm2.bias with constant / 0.000\n",
      "2019-08-07 12:05:53,089 - sonosco.models.seq2seq_tds - INFO - Initialize layers.subsample5.conv1d.weight with uniform / 0.378\n",
      "2019-08-07 12:05:53,091 - sonosco.models.seq2seq_tds - INFO - Initialize layers.subsample5.conv1d.bias with constant / 0.000\n",
      "2019-08-07 12:05:53,093 - sonosco.models.seq2seq_tds - INFO - Initialize layers.subsample5.layer_norm.weight with constant / 0.000\n",
      "2019-08-07 12:05:53,094 - sonosco.models.seq2seq_tds - INFO - Initialize layers.subsample5.layer_norm.bias with constant / 0.000\n",
      "2019-08-07 12:05:53,102 - sonosco.models.seq2seq_tds - INFO - Initialize layers.tds18_block5.conv2d.weight with uniform / 0.103\n",
      "2019-08-07 12:05:53,103 - sonosco.models.seq2seq_tds - INFO - Initialize layers.tds18_block5.conv2d.bias with constant / 0.000\n",
      "2019-08-07 12:05:53,105 - sonosco.models.seq2seq_tds - INFO - Initialize layers.tds18_block5.layer_norm1.weight with constant / 0.000\n",
      "2019-08-07 12:05:53,106 - sonosco.models.seq2seq_tds - INFO - Initialize layers.tds18_block5.layer_norm1.bias with constant / 0.000\n",
      "2019-08-07 12:05:53,198 - sonosco.models.seq2seq_tds - INFO - Initialize layers.tds18_block5.conv1d_1.weight with uniform / 0.037\n",
      "2019-08-07 12:05:53,199 - sonosco.models.seq2seq_tds - INFO - Initialize layers.tds18_block5.conv1d_1.bias with constant / 0.000\n",
      "2019-08-07 12:05:53,269 - sonosco.models.seq2seq_tds - INFO - Initialize layers.tds18_block5.conv1d_2.weight with uniform / 0.037\n",
      "2019-08-07 12:05:53,270 - sonosco.models.seq2seq_tds - INFO - Initialize layers.tds18_block5.conv1d_2.bias with constant / 0.000\n",
      "2019-08-07 12:05:53,271 - sonosco.models.seq2seq_tds - INFO - Initialize layers.tds18_block5.layer_norm2.weight with constant / 0.000\n",
      "2019-08-07 12:05:53,272 - sonosco.models.seq2seq_tds - INFO - Initialize layers.tds18_block5.layer_norm2.bias with constant / 0.000\n",
      "2019-08-07 12:05:53,274 - sonosco.models.seq2seq_tds - INFO - Initialize layers.tds18_block6.conv2d.weight with uniform / 0.103\n",
      "2019-08-07 12:05:53,275 - sonosco.models.seq2seq_tds - INFO - Initialize layers.tds18_block6.conv2d.bias with constant / 0.000\n",
      "2019-08-07 12:05:53,276 - sonosco.models.seq2seq_tds - INFO - Initialize layers.tds18_block6.layer_norm1.weight with constant / 0.000\n",
      "2019-08-07 12:05:53,278 - sonosco.models.seq2seq_tds - INFO - Initialize layers.tds18_block6.layer_norm1.bias with constant / 0.000\n",
      "2019-08-07 12:05:53,352 - sonosco.models.seq2seq_tds - INFO - Initialize layers.tds18_block6.conv1d_1.weight with uniform / 0.037\n",
      "2019-08-07 12:05:53,353 - sonosco.models.seq2seq_tds - INFO - Initialize layers.tds18_block6.conv1d_1.bias with constant / 0.000\n",
      "2019-08-07 12:05:53,424 - sonosco.models.seq2seq_tds - INFO - Initialize layers.tds18_block6.conv1d_2.weight with uniform / 0.037\n",
      "2019-08-07 12:05:53,425 - sonosco.models.seq2seq_tds - INFO - Initialize layers.tds18_block6.conv1d_2.bias with constant / 0.000\n",
      "2019-08-07 12:05:53,427 - sonosco.models.seq2seq_tds - INFO - Initialize layers.tds18_block6.layer_norm2.weight with constant / 0.000\n",
      "2019-08-07 12:05:53,428 - sonosco.models.seq2seq_tds - INFO - Initialize layers.tds18_block6.layer_norm2.bias with constant / 0.000\n",
      "2019-08-07 12:05:53,430 - sonosco.models.seq2seq_tds - INFO - Initialize layers.tds18_block7.conv2d.weight with uniform / 0.103\n",
      "2019-08-07 12:05:53,431 - sonosco.models.seq2seq_tds - INFO - Initialize layers.tds18_block7.conv2d.bias with constant / 0.000\n",
      "2019-08-07 12:05:53,432 - sonosco.models.seq2seq_tds - INFO - Initialize layers.tds18_block7.layer_norm1.weight with constant / 0.000\n",
      "2019-08-07 12:05:53,433 - sonosco.models.seq2seq_tds - INFO - Initialize layers.tds18_block7.layer_norm1.bias with constant / 0.000\n",
      "2019-08-07 12:05:53,503 - sonosco.models.seq2seq_tds - INFO - Initialize layers.tds18_block7.conv1d_1.weight with uniform / 0.037\n",
      "2019-08-07 12:05:53,504 - sonosco.models.seq2seq_tds - INFO - Initialize layers.tds18_block7.conv1d_1.bias with constant / 0.000\n",
      "2019-08-07 12:05:53,572 - sonosco.models.seq2seq_tds - INFO - Initialize layers.tds18_block7.conv1d_2.weight with uniform / 0.037\n",
      "2019-08-07 12:05:53,573 - sonosco.models.seq2seq_tds - INFO - Initialize layers.tds18_block7.conv1d_2.bias with constant / 0.000\n",
      "2019-08-07 12:05:53,575 - sonosco.models.seq2seq_tds - INFO - Initialize layers.tds18_block7.layer_norm2.weight with constant / 0.000\n",
      "2019-08-07 12:05:53,576 - sonosco.models.seq2seq_tds - INFO - Initialize layers.tds18_block7.layer_norm2.bias with constant / 0.000\n",
      "2019-08-07 12:05:53,577 - sonosco.models.seq2seq_tds - INFO - Initialize layers.tds18_block8.conv2d.weight with uniform / 0.103\n",
      "2019-08-07 12:05:53,578 - sonosco.models.seq2seq_tds - INFO - Initialize layers.tds18_block8.conv2d.bias with constant / 0.000\n",
      "2019-08-07 12:05:53,580 - sonosco.models.seq2seq_tds - INFO - Initialize layers.tds18_block8.layer_norm1.weight with constant / 0.000\n",
      "2019-08-07 12:05:53,581 - sonosco.models.seq2seq_tds - INFO - Initialize layers.tds18_block8.layer_norm1.bias with constant / 0.000\n",
      "2019-08-07 12:05:53,653 - sonosco.models.seq2seq_tds - INFO - Initialize layers.tds18_block8.conv1d_1.weight with uniform / 0.037\n",
      "2019-08-07 12:05:53,654 - sonosco.models.seq2seq_tds - INFO - Initialize layers.tds18_block8.conv1d_1.bias with constant / 0.000\n",
      "2019-08-07 12:05:53,721 - sonosco.models.seq2seq_tds - INFO - Initialize layers.tds18_block8.conv1d_2.weight with uniform / 0.037\n",
      "2019-08-07 12:05:53,722 - sonosco.models.seq2seq_tds - INFO - Initialize layers.tds18_block8.conv1d_2.bias with constant / 0.000\n",
      "2019-08-07 12:05:53,723 - sonosco.models.seq2seq_tds - INFO - Initialize layers.tds18_block8.layer_norm2.weight with constant / 0.000\n",
      "2019-08-07 12:05:53,724 - sonosco.models.seq2seq_tds - INFO - Initialize layers.tds18_block8.layer_norm2.bias with constant / 0.000\n",
      "2019-08-07 12:05:53,725 - sonosco.models.seq2seq_tds - INFO - Initialize layers.tds18_block9.conv2d.weight with uniform / 0.103\n",
      "2019-08-07 12:05:53,727 - sonosco.models.seq2seq_tds - INFO - Initialize layers.tds18_block9.conv2d.bias with constant / 0.000\n",
      "2019-08-07 12:05:53,728 - sonosco.models.seq2seq_tds - INFO - Initialize layers.tds18_block9.layer_norm1.weight with constant / 0.000\n",
      "2019-08-07 12:05:53,729 - sonosco.models.seq2seq_tds - INFO - Initialize layers.tds18_block9.layer_norm1.bias with constant / 0.000\n",
      "2019-08-07 12:05:53,803 - sonosco.models.seq2seq_tds - INFO - Initialize layers.tds18_block9.conv1d_1.weight with uniform / 0.037\n",
      "2019-08-07 12:05:53,804 - sonosco.models.seq2seq_tds - INFO - Initialize layers.tds18_block9.conv1d_1.bias with constant / 0.000\n",
      "2019-08-07 12:05:53,879 - sonosco.models.seq2seq_tds - INFO - Initialize layers.tds18_block9.conv1d_2.weight with uniform / 0.037\n",
      "2019-08-07 12:05:53,880 - sonosco.models.seq2seq_tds - INFO - Initialize layers.tds18_block9.conv1d_2.bias with constant / 0.000\n",
      "2019-08-07 12:05:53,881 - sonosco.models.seq2seq_tds - INFO - Initialize layers.tds18_block9.layer_norm2.weight with constant / 0.000\n",
      "2019-08-07 12:05:53,882 - sonosco.models.seq2seq_tds - INFO - Initialize layers.tds18_block9.layer_norm2.bias with constant / 0.000\n",
      "2019-08-07 12:05:53,886 - sonosco.models.seq2seq_tds - INFO - Initialize layers.tds18_block10.conv2d.weight with uniform / 0.103\n",
      "2019-08-07 12:05:53,889 - sonosco.models.seq2seq_tds - INFO - Initialize layers.tds18_block10.conv2d.bias with constant / 0.000\n",
      "2019-08-07 12:05:53,895 - sonosco.models.seq2seq_tds - INFO - Initialize layers.tds18_block10.layer_norm1.weight with constant / 0.000\n",
      "2019-08-07 12:05:53,901 - sonosco.models.seq2seq_tds - INFO - Initialize layers.tds18_block10.layer_norm1.bias with constant / 0.000\n",
      "2019-08-07 12:05:54,027 - sonosco.models.seq2seq_tds - INFO - Initialize layers.tds18_block10.conv1d_1.weight with uniform / 0.037\n",
      "2019-08-07 12:05:54,029 - sonosco.models.seq2seq_tds - INFO - Initialize layers.tds18_block10.conv1d_1.bias with constant / 0.000\n",
      "2019-08-07 12:05:54,129 - sonosco.models.seq2seq_tds - INFO - Initialize layers.tds18_block10.conv1d_2.weight with uniform / 0.037\n",
      "2019-08-07 12:05:54,130 - sonosco.models.seq2seq_tds - INFO - Initialize layers.tds18_block10.conv1d_2.bias with constant / 0.000\n",
      "2019-08-07 12:05:54,131 - sonosco.models.seq2seq_tds - INFO - Initialize layers.tds18_block10.layer_norm2.weight with constant / 0.000\n",
      "2019-08-07 12:05:54,133 - sonosco.models.seq2seq_tds - INFO - Initialize layers.tds18_block10.layer_norm2.bias with constant / 0.000\n"
     ]
    }
   ],
   "source": [
    "# create model\n",
    "model = TDSSeq2Seq(config[\"encoder\"], config[\"decoder\"])"
   ]
  },
  {
   "cell_type": "code",
   "execution_count": 5,
   "metadata": {},
   "outputs": [],
   "source": [
    "# create fake data\n",
    "batch_dim = 8\n",
    "time_dim = 80\n",
    "input_dim = 161\n",
    "output_time_dim = 20\n",
    "vocab_dim = 100\n",
    "\n",
    "xs = np.random.rand(batch_dim, time_dim, input_dim)\n",
    "xlens = np.random.randint(low=time_dim, high=time_dim + 1, size=batch_dim)\n",
    "y_labels = np.random.randint(low=1, high=vocab_dim, size=(batch_dim, output_time_dim))\n",
    "ylens = np.random.randint(low=output_time_dim, high=output_time_dim + 1, size=batch_dim)"
   ]
  },
  {
   "cell_type": "code",
   "execution_count": null,
   "metadata": {},
   "outputs": [],
   "source": [
    "# run model\n",
    "probs = model(torch.from_numpy(xs).float(), torch.from_numpy(xlens), torch.from_numpy(y_labels), torch.from_numpy(ylens))\n",
    "probs.size()"
   ]
  },
  {
   "cell_type": "code",
   "execution_count": 7,
   "metadata": {},
   "outputs": [],
   "source": [
    "Experiment.create(\"CV_STS\")\n",
    "\n",
    "train_loader, val_loader = create_data_loaders(**config)\n",
    "\n",
    "def cross_entropy_loss(batch, model):\n",
    "    batch_x, batch_y, input_lengths, target_lengths = batch\n",
    "    # check out the _collate_fn in loader to understand the next transformations\n",
    "    batch_x = batch_x.squeeze(1).transpose(1, 2)\n",
    "    batch_y = torch.split(batch_y, target_lengths.tolist())\n",
    "    \n",
    "    max_len = max(batch_y, key=lambda x: x.size()[0]).size()[0]\n",
    "    #padded_batch_y = []\n",
    "    #for y in batch_y:\n",
    "    #    padded_y = torch_functional.pad(y, (0, max_len - y.size()[0]))\n",
    "    #    padded_batch_y.append(padded_y)        \n",
    "    #batch_y = torch.stack(padded_batch_y).type(torch.LongTensor)\n",
    "    batch_y = torch.nn.utils.rnn.pad_sequence(batch_y, batch_first=True).type(torch.LongTensor)\n",
    "    model_output = model(batch_x, input_lengths, batch_y, target_lengths)\n",
    "    loss = torch_functional.cross_entropy(model_output.permute(0, 2, 1), batch_y)\n",
    "    return loss, model_output\n",
    "\n",
    "trainer = ModelTrainer(model, loss=cross_entropy_loss, epochs=config[\"max_epochs\"],\n",
    "                       train_data_loader=train_loader, val_data_loader=val_loader,\n",
    "                       lr=config[\"learning_rate\"], custom_model_eval=True)"
   ]
  },
  {
   "cell_type": "code",
   "execution_count": null,
   "metadata": {},
   "outputs": [],
   "source": [
    "trainer.start_training()"
   ]
  },
  {
   "cell_type": "code",
   "execution_count": 31,
   "metadata": {
    "pycharm": {
     "is_executing": false,
     "name": "#%%\n"
    }
   },
   "outputs": [],
   "source": [
    "class View(nn.Module):\n",
    "    def __init__(self, shape):\n",
    "        super(View, self).__init__()\n",
    "        self.shape = shape\n",
    "        \n",
    "    def forward(self, input):\n",
    "        return input.view(self.shape)\n",
    "\n",
    "class Reorder(nn.Module):\n",
    "    def __init__(self, shape):\n",
    "        super(Reorder, self).__init__()\n",
    "        self.shape = shape\n",
    "        \n",
    "    def forward(self, input):\n",
    "        return input.permute(self.shape)"
   ]
  },
  {
   "cell_type": "code",
   "execution_count": 32,
   "metadata": {
    "pycharm": {
     "is_executing": false,
     "name": "#%% \n"
    }
   },
   "outputs": [],
   "source": [
    "class TDSBlock(nn.Module):\n",
    "    \n",
    "    def __init__(self, c: int, kw: int, h: int, dropout: float)-> None:\n",
    "        super().__init__()\n",
    "        l:int = c * h\n",
    "        self.conv = nn.Sequential(\n",
    "            nn.Conv2d(1, 10, kernel_size=(21, 1), stride=(2, 1), padding=(20, 5)), #calc padding\n",
    "            nn.ReLU(),\n",
    "            nn.Dropout2d(0.2),\n",
    "            nn.LayerNorm(3),\n",
    "            View((-1,l,1,0)),\n",
    "            Reorder((1,0,2,3)),\n",
    "            nn.Linear(l,l),\n",
    "            nn.ReLU(),\n",
    "            nn.Dropout2d(dropout),\n",
    "            nn.Linear(l,l),\n",
    "            Reorder((1,0,2,3)),\n",
    "            View((-1,h,c,0)),\n",
    "            nn.Dropout2d(dropout),\n",
    "            nn.LayerNorm(3)\n",
    "        )\n",
    "        \n",
    "    def forward(self, input):\n",
    "        return self.conv(input)"
   ]
  },
  {
   "cell_type": "code",
   "execution_count": 33,
   "metadata": {
    "pycharm": {
     "is_executing": false,
     "name": "#%%\n"
    }
   },
   "outputs": [],
   "source": [
    "b = TDSBlock(1,2,3,0.5)\n"
   ]
  },
  {
   "cell_type": "code",
   "execution_count": 34,
   "metadata": {
    "pycharm": {
     "is_executing": false,
     "name": "#%%\n"
    }
   },
   "outputs": [],
   "source": [
    "Experiment.create(\"CV_STS\")\n",
    "config = parse_yaml(\"./config.yaml\")[\"train\"]"
   ]
  },
  {
   "cell_type": "code",
   "execution_count": 35,
   "metadata": {
    "pycharm": {
     "is_executing": false,
     "name": "#%%\n"
    }
   },
   "outputs": [],
   "source": [
    "train_loader, val_loader = create_data_loaders(**config)\n"
   ]
  },
  {
   "cell_type": "code",
   "execution_count": 46,
   "metadata": {
    "pycharm": {
     "is_executing": false,
     "name": "#%%\n"
    }
   },
   "outputs": [],
   "source": [
    "def custom_loss(batch, model):\n",
    "    batch_x, batch_y, input_lengths, target_lengths = batch\n",
    "    model_output, output_lengths = model(batch_x)\n",
    "    loss = torch_functional.ctc_loss(model_output.transpose(0, 1), batch_y, output_lengths, target_lengths)\n",
    "    return loss, model_output"
   ]
  },
  {
   "cell_type": "code",
   "execution_count": 47,
   "metadata": {
    "pycharm": {
     "is_executing": false,
     "name": "#%%\n"
    }
   },
   "outputs": [],
   "source": [
    "class ConvSeqNet(nn.Module):\n",
    "    def __init__(self):\n",
    "        super(ConvSeqNet, self).__init__()\n",
    "        self.net = nn.Sequential(\n",
    "            nn.Conv2d(1, 10, kernel_size=(21, 1), stride=(2, 1), padding=(20, 5)), #calc padding\n",
    "            nn.ReLU(),\n",
    "            nn.Dropout2d(0.2),\n",
    "            nn.LayerNorm(3),\n",
    "            TDSBlock(10,21,82,0.2)\n",
    "        #     TDSBlock(10,21,82,0.2),\n",
    "        #     nn.Conv2d(10, 14, kernel_size=(21, 1), stride=(2, 1), padding=(20, 5)), #calc padding\n",
    "        #     nn.ReLU(),\n",
    "        #     nn.Dropout2d(0.2),\n",
    "        #     nn.LayerNorm(3),\n",
    "        #     TDSBlock(10,21,82,0.2),\n",
    "        #     TDSBlock(10,21,82,0.2),\n",
    "        #     TDSBlock(10,21,82,0.2),\n",
    "        #     nn.Conv2d(14, 18, kernel_size=(21, 1), stride=(2, 1), padding=(20, 5)), #calc padding\n",
    "        #     nn.ReLU(),\n",
    "        #     nn.Dropout2d(0.2),\n",
    "        #     nn.LayerNorm(3),\n",
    "        #     TDSBlock(10,21,82,0.2),\n",
    "        #     TDSBlock(10,21,82,0.2),\n",
    "        #     TDSBlock(10,21,82,0.2),\n",
    "        #     TDSBlock(10,21,82,0.2),\n",
    "        #     TDSBlock(10,21,82,0.2),\n",
    "        #     TDSBlock(10,21,82,0.2),\n",
    "        #     View((-1,1440,1,0)),\n",
    "        #     Reorder((1,0,3,2)),\n",
    "        #     nn.Linear(1440,1024),\n",
    "        )\n",
    "    def forward(self, input):\n",
    "        return self.net(input)"
   ]
  },
  {
   "cell_type": "code",
   "execution_count": 48,
   "metadata": {
    "pycharm": {
     "is_executing": false,
     "name": "#%%\n"
    }
   },
   "outputs": [],
   "source": [
    "model = ConvSeqNet()\n",
    "\n",
    "trainer = ModelTrainer(model, loss=custom_loss, epochs=config[\"max_epochs\"],\n",
    "                           train_data_loader=train_loader, val_data_loader=val_loader,\n",
    "                           lr=config[\"learning_rate\"], custom_model_eval=True)"
   ]
  },
  {
   "cell_type": "code",
   "execution_count": 49,
   "metadata": {
    "pycharm": {
     "is_executing": false,
     "name": "#%%\n"
    }
   },
   "outputs": [
    {
     "ename": "RuntimeError",
     "evalue": "Given normalized_shape=[3], expected input with shape [*, 3], but got input of size[32, 10, 51, 213]",
     "output_type": "error",
     "traceback": [
      "\u001b[0;31m---------------------------------------------------------------------------\u001b[0m",
      "\u001b[0;31mRuntimeError\u001b[0m                              Traceback (most recent call last)",
      "\u001b[0;32m<ipython-input-49-af0c57e47527>\u001b[0m in \u001b[0;36m<module>\u001b[0;34m\u001b[0m\n\u001b[0;32m----> 1\u001b[0;31m \u001b[0mtrainer\u001b[0m\u001b[0;34m.\u001b[0m\u001b[0mstart_training\u001b[0m\u001b[0;34m(\u001b[0m\u001b[0;34m)\u001b[0m\u001b[0;34m\u001b[0m\u001b[0;34m\u001b[0m\u001b[0m\n\u001b[0m",
      "\u001b[0;32m~/Studies/Roboy/sonosco/sonosco/training/trainer.py\u001b[0m in \u001b[0;36mstart_training\u001b[0;34m(self)\u001b[0m\n\u001b[1;32m     81\u001b[0m         \u001b[0mself\u001b[0m\u001b[0;34m.\u001b[0m\u001b[0mmodel\u001b[0m\u001b[0;34m.\u001b[0m\u001b[0mtrain\u001b[0m\u001b[0;34m(\u001b[0m\u001b[0;34m)\u001b[0m  \u001b[0;31m# train mode\u001b[0m\u001b[0;34m\u001b[0m\u001b[0;34m\u001b[0m\u001b[0m\n\u001b[1;32m     82\u001b[0m         \u001b[0;32mfor\u001b[0m \u001b[0mepoch\u001b[0m \u001b[0;32min\u001b[0m \u001b[0mrange\u001b[0m\u001b[0;34m(\u001b[0m\u001b[0;36m1\u001b[0m\u001b[0;34m,\u001b[0m \u001b[0mself\u001b[0m\u001b[0;34m.\u001b[0m\u001b[0m_epochs\u001b[0m \u001b[0;34m+\u001b[0m \u001b[0;36m1\u001b[0m\u001b[0;34m)\u001b[0m\u001b[0;34m:\u001b[0m\u001b[0;34m\u001b[0m\u001b[0;34m\u001b[0m\u001b[0m\n\u001b[0;32m---> 83\u001b[0;31m             \u001b[0mself\u001b[0m\u001b[0;34m.\u001b[0m\u001b[0m_epoch_step\u001b[0m\u001b[0;34m(\u001b[0m\u001b[0mepoch\u001b[0m\u001b[0;34m)\u001b[0m\u001b[0;34m\u001b[0m\u001b[0;34m\u001b[0m\u001b[0m\n\u001b[0m\u001b[1;32m     84\u001b[0m \u001b[0;34m\u001b[0m\u001b[0m\n\u001b[1;32m     85\u001b[0m             \u001b[0;32mif\u001b[0m \u001b[0mself\u001b[0m\u001b[0;34m.\u001b[0m\u001b[0m_stop_training\u001b[0m\u001b[0;34m:\u001b[0m\u001b[0;34m\u001b[0m\u001b[0;34m\u001b[0m\u001b[0m\n",
      "\u001b[0;32m~/Studies/Roboy/sonosco/sonosco/training/trainer.py\u001b[0m in \u001b[0;36m_epoch_step\u001b[0;34m(self, epoch)\u001b[0m\n\u001b[1;32m     98\u001b[0m \u001b[0;34m\u001b[0m\u001b[0m\n\u001b[1;32m     99\u001b[0m             \u001b[0;31m# compute training batch\u001b[0m\u001b[0;34m\u001b[0m\u001b[0;34m\u001b[0m\u001b[0;34m\u001b[0m\u001b[0m\n\u001b[0;32m--> 100\u001b[0;31m             \u001b[0mloss\u001b[0m\u001b[0;34m,\u001b[0m \u001b[0mmodel_output\u001b[0m\u001b[0;34m,\u001b[0m \u001b[0mgrad_norm\u001b[0m \u001b[0;34m=\u001b[0m \u001b[0mself\u001b[0m\u001b[0;34m.\u001b[0m\u001b[0m_train_on_batch\u001b[0m\u001b[0;34m(\u001b[0m\u001b[0mbatch\u001b[0m\u001b[0;34m)\u001b[0m\u001b[0;34m\u001b[0m\u001b[0;34m\u001b[0m\u001b[0m\n\u001b[0m\u001b[1;32m    101\u001b[0m             \u001b[0mrunning_batch_loss\u001b[0m \u001b[0;34m+=\u001b[0m \u001b[0mloss\u001b[0m\u001b[0;34m.\u001b[0m\u001b[0mitem\u001b[0m\u001b[0;34m(\u001b[0m\u001b[0;34m)\u001b[0m\u001b[0;34m\u001b[0m\u001b[0;34m\u001b[0m\u001b[0m\n\u001b[1;32m    102\u001b[0m \u001b[0;34m\u001b[0m\u001b[0m\n",
      "\u001b[0;32m~/Studies/Roboy/sonosco/sonosco/training/trainer.py\u001b[0m in \u001b[0;36m_train_on_batch\u001b[0;34m(self, batch)\u001b[0m\n\u001b[1;32m    131\u001b[0m         \u001b[0mbatch_x\u001b[0m\u001b[0;34m,\u001b[0m \u001b[0mbatch_y\u001b[0m\u001b[0;34m,\u001b[0m \u001b[0minput_lengths\u001b[0m\u001b[0;34m,\u001b[0m \u001b[0mtarget_lengths\u001b[0m \u001b[0;34m=\u001b[0m \u001b[0mbatch\u001b[0m\u001b[0;34m\u001b[0m\u001b[0;34m\u001b[0m\u001b[0m\n\u001b[1;32m    132\u001b[0m         \u001b[0;32mif\u001b[0m \u001b[0mself\u001b[0m\u001b[0;34m.\u001b[0m\u001b[0m_custom_model_eval\u001b[0m\u001b[0;34m:\u001b[0m\u001b[0;34m\u001b[0m\u001b[0;34m\u001b[0m\u001b[0m\n\u001b[0;32m--> 133\u001b[0;31m             \u001b[0mloss\u001b[0m\u001b[0;34m,\u001b[0m \u001b[0mmodel_output\u001b[0m \u001b[0;34m=\u001b[0m \u001b[0mself\u001b[0m\u001b[0;34m.\u001b[0m\u001b[0mloss\u001b[0m\u001b[0;34m(\u001b[0m\u001b[0mbatch\u001b[0m\u001b[0;34m,\u001b[0m \u001b[0mself\u001b[0m\u001b[0;34m.\u001b[0m\u001b[0mmodel\u001b[0m\u001b[0;34m)\u001b[0m\u001b[0;34m\u001b[0m\u001b[0;34m\u001b[0m\u001b[0m\n\u001b[0m\u001b[1;32m    134\u001b[0m         \u001b[0;32melse\u001b[0m\u001b[0;34m:\u001b[0m\u001b[0;34m\u001b[0m\u001b[0;34m\u001b[0m\u001b[0m\n\u001b[1;32m    135\u001b[0m             \u001b[0mmodel_output\u001b[0m \u001b[0;34m=\u001b[0m \u001b[0mself\u001b[0m\u001b[0;34m.\u001b[0m\u001b[0mmodel\u001b[0m\u001b[0;34m(\u001b[0m\u001b[0mbatch_x\u001b[0m\u001b[0;34m,\u001b[0m \u001b[0minput_lengths\u001b[0m\u001b[0;34m)\u001b[0m\u001b[0;34m\u001b[0m\u001b[0;34m\u001b[0m\u001b[0m\n",
      "\u001b[0;32m<ipython-input-46-44e99e4ebd13>\u001b[0m in \u001b[0;36mcustom_loss\u001b[0;34m(batch, model)\u001b[0m\n\u001b[1;32m      1\u001b[0m \u001b[0;32mdef\u001b[0m \u001b[0mcustom_loss\u001b[0m\u001b[0;34m(\u001b[0m\u001b[0mbatch\u001b[0m\u001b[0;34m,\u001b[0m \u001b[0mmodel\u001b[0m\u001b[0;34m)\u001b[0m\u001b[0;34m:\u001b[0m\u001b[0;34m\u001b[0m\u001b[0;34m\u001b[0m\u001b[0m\n\u001b[1;32m      2\u001b[0m     \u001b[0mbatch_x\u001b[0m\u001b[0;34m,\u001b[0m \u001b[0mbatch_y\u001b[0m\u001b[0;34m,\u001b[0m \u001b[0minput_lengths\u001b[0m\u001b[0;34m,\u001b[0m \u001b[0mtarget_lengths\u001b[0m \u001b[0;34m=\u001b[0m \u001b[0mbatch\u001b[0m\u001b[0;34m\u001b[0m\u001b[0;34m\u001b[0m\u001b[0m\n\u001b[0;32m----> 3\u001b[0;31m     \u001b[0mmodel_output\u001b[0m\u001b[0;34m,\u001b[0m \u001b[0moutput_lengths\u001b[0m \u001b[0;34m=\u001b[0m \u001b[0mmodel\u001b[0m\u001b[0;34m(\u001b[0m\u001b[0mbatch_x\u001b[0m\u001b[0;34m)\u001b[0m\u001b[0;34m\u001b[0m\u001b[0;34m\u001b[0m\u001b[0m\n\u001b[0m\u001b[1;32m      4\u001b[0m     \u001b[0mloss\u001b[0m \u001b[0;34m=\u001b[0m \u001b[0mtorch_functional\u001b[0m\u001b[0;34m.\u001b[0m\u001b[0mctc_loss\u001b[0m\u001b[0;34m(\u001b[0m\u001b[0mmodel_output\u001b[0m\u001b[0;34m.\u001b[0m\u001b[0mtranspose\u001b[0m\u001b[0;34m(\u001b[0m\u001b[0;36m0\u001b[0m\u001b[0;34m,\u001b[0m \u001b[0;36m1\u001b[0m\u001b[0;34m)\u001b[0m\u001b[0;34m,\u001b[0m \u001b[0mbatch_y\u001b[0m\u001b[0;34m,\u001b[0m \u001b[0moutput_lengths\u001b[0m\u001b[0;34m,\u001b[0m \u001b[0mtarget_lengths\u001b[0m\u001b[0;34m)\u001b[0m\u001b[0;34m\u001b[0m\u001b[0;34m\u001b[0m\u001b[0m\n\u001b[1;32m      5\u001b[0m     \u001b[0;32mreturn\u001b[0m \u001b[0mloss\u001b[0m\u001b[0;34m,\u001b[0m \u001b[0mmodel_output\u001b[0m\u001b[0;34m\u001b[0m\u001b[0;34m\u001b[0m\u001b[0m\n",
      "\u001b[0;32m~/anaconda3/envs/sonosco/lib/python3.7/site-packages/torch/nn/modules/module.py\u001b[0m in \u001b[0;36m__call__\u001b[0;34m(self, *input, **kwargs)\u001b[0m\n\u001b[1;32m    491\u001b[0m             \u001b[0mresult\u001b[0m \u001b[0;34m=\u001b[0m \u001b[0mself\u001b[0m\u001b[0;34m.\u001b[0m\u001b[0m_slow_forward\u001b[0m\u001b[0;34m(\u001b[0m\u001b[0;34m*\u001b[0m\u001b[0minput\u001b[0m\u001b[0;34m,\u001b[0m \u001b[0;34m**\u001b[0m\u001b[0mkwargs\u001b[0m\u001b[0;34m)\u001b[0m\u001b[0;34m\u001b[0m\u001b[0;34m\u001b[0m\u001b[0m\n\u001b[1;32m    492\u001b[0m         \u001b[0;32melse\u001b[0m\u001b[0;34m:\u001b[0m\u001b[0;34m\u001b[0m\u001b[0;34m\u001b[0m\u001b[0m\n\u001b[0;32m--> 493\u001b[0;31m             \u001b[0mresult\u001b[0m \u001b[0;34m=\u001b[0m \u001b[0mself\u001b[0m\u001b[0;34m.\u001b[0m\u001b[0mforward\u001b[0m\u001b[0;34m(\u001b[0m\u001b[0;34m*\u001b[0m\u001b[0minput\u001b[0m\u001b[0;34m,\u001b[0m \u001b[0;34m**\u001b[0m\u001b[0mkwargs\u001b[0m\u001b[0;34m)\u001b[0m\u001b[0;34m\u001b[0m\u001b[0;34m\u001b[0m\u001b[0m\n\u001b[0m\u001b[1;32m    494\u001b[0m         \u001b[0;32mfor\u001b[0m \u001b[0mhook\u001b[0m \u001b[0;32min\u001b[0m \u001b[0mself\u001b[0m\u001b[0;34m.\u001b[0m\u001b[0m_forward_hooks\u001b[0m\u001b[0;34m.\u001b[0m\u001b[0mvalues\u001b[0m\u001b[0;34m(\u001b[0m\u001b[0;34m)\u001b[0m\u001b[0;34m:\u001b[0m\u001b[0;34m\u001b[0m\u001b[0;34m\u001b[0m\u001b[0m\n\u001b[1;32m    495\u001b[0m             \u001b[0mhook_result\u001b[0m \u001b[0;34m=\u001b[0m \u001b[0mhook\u001b[0m\u001b[0;34m(\u001b[0m\u001b[0mself\u001b[0m\u001b[0;34m,\u001b[0m \u001b[0minput\u001b[0m\u001b[0;34m,\u001b[0m \u001b[0mresult\u001b[0m\u001b[0;34m)\u001b[0m\u001b[0;34m\u001b[0m\u001b[0;34m\u001b[0m\u001b[0m\n",
      "\u001b[0;32m<ipython-input-47-28d225413822>\u001b[0m in \u001b[0;36mforward\u001b[0;34m(self, input)\u001b[0m\n\u001b[1;32m     31\u001b[0m         )\n\u001b[1;32m     32\u001b[0m     \u001b[0;32mdef\u001b[0m \u001b[0mforward\u001b[0m\u001b[0;34m(\u001b[0m\u001b[0mself\u001b[0m\u001b[0;34m,\u001b[0m \u001b[0minput\u001b[0m\u001b[0;34m)\u001b[0m\u001b[0;34m:\u001b[0m\u001b[0;34m\u001b[0m\u001b[0;34m\u001b[0m\u001b[0m\n\u001b[0;32m---> 33\u001b[0;31m         \u001b[0;32mreturn\u001b[0m \u001b[0mself\u001b[0m\u001b[0;34m.\u001b[0m\u001b[0mnet\u001b[0m\u001b[0;34m(\u001b[0m\u001b[0minput\u001b[0m\u001b[0;34m)\u001b[0m\u001b[0;34m\u001b[0m\u001b[0;34m\u001b[0m\u001b[0m\n\u001b[0m",
      "\u001b[0;32m~/anaconda3/envs/sonosco/lib/python3.7/site-packages/torch/nn/modules/module.py\u001b[0m in \u001b[0;36m__call__\u001b[0;34m(self, *input, **kwargs)\u001b[0m\n\u001b[1;32m    491\u001b[0m             \u001b[0mresult\u001b[0m \u001b[0;34m=\u001b[0m \u001b[0mself\u001b[0m\u001b[0;34m.\u001b[0m\u001b[0m_slow_forward\u001b[0m\u001b[0;34m(\u001b[0m\u001b[0;34m*\u001b[0m\u001b[0minput\u001b[0m\u001b[0;34m,\u001b[0m \u001b[0;34m**\u001b[0m\u001b[0mkwargs\u001b[0m\u001b[0;34m)\u001b[0m\u001b[0;34m\u001b[0m\u001b[0;34m\u001b[0m\u001b[0m\n\u001b[1;32m    492\u001b[0m         \u001b[0;32melse\u001b[0m\u001b[0;34m:\u001b[0m\u001b[0;34m\u001b[0m\u001b[0;34m\u001b[0m\u001b[0m\n\u001b[0;32m--> 493\u001b[0;31m             \u001b[0mresult\u001b[0m \u001b[0;34m=\u001b[0m \u001b[0mself\u001b[0m\u001b[0;34m.\u001b[0m\u001b[0mforward\u001b[0m\u001b[0;34m(\u001b[0m\u001b[0;34m*\u001b[0m\u001b[0minput\u001b[0m\u001b[0;34m,\u001b[0m \u001b[0;34m**\u001b[0m\u001b[0mkwargs\u001b[0m\u001b[0;34m)\u001b[0m\u001b[0;34m\u001b[0m\u001b[0;34m\u001b[0m\u001b[0m\n\u001b[0m\u001b[1;32m    494\u001b[0m         \u001b[0;32mfor\u001b[0m \u001b[0mhook\u001b[0m \u001b[0;32min\u001b[0m \u001b[0mself\u001b[0m\u001b[0;34m.\u001b[0m\u001b[0m_forward_hooks\u001b[0m\u001b[0;34m.\u001b[0m\u001b[0mvalues\u001b[0m\u001b[0;34m(\u001b[0m\u001b[0;34m)\u001b[0m\u001b[0;34m:\u001b[0m\u001b[0;34m\u001b[0m\u001b[0;34m\u001b[0m\u001b[0m\n\u001b[1;32m    495\u001b[0m             \u001b[0mhook_result\u001b[0m \u001b[0;34m=\u001b[0m \u001b[0mhook\u001b[0m\u001b[0;34m(\u001b[0m\u001b[0mself\u001b[0m\u001b[0;34m,\u001b[0m \u001b[0minput\u001b[0m\u001b[0;34m,\u001b[0m \u001b[0mresult\u001b[0m\u001b[0;34m)\u001b[0m\u001b[0;34m\u001b[0m\u001b[0;34m\u001b[0m\u001b[0m\n",
      "\u001b[0;32m~/anaconda3/envs/sonosco/lib/python3.7/site-packages/torch/nn/modules/container.py\u001b[0m in \u001b[0;36mforward\u001b[0;34m(self, input)\u001b[0m\n\u001b[1;32m     90\u001b[0m     \u001b[0;32mdef\u001b[0m \u001b[0mforward\u001b[0m\u001b[0;34m(\u001b[0m\u001b[0mself\u001b[0m\u001b[0;34m,\u001b[0m \u001b[0minput\u001b[0m\u001b[0;34m)\u001b[0m\u001b[0;34m:\u001b[0m\u001b[0;34m\u001b[0m\u001b[0;34m\u001b[0m\u001b[0m\n\u001b[1;32m     91\u001b[0m         \u001b[0;32mfor\u001b[0m \u001b[0mmodule\u001b[0m \u001b[0;32min\u001b[0m \u001b[0mself\u001b[0m\u001b[0;34m.\u001b[0m\u001b[0m_modules\u001b[0m\u001b[0;34m.\u001b[0m\u001b[0mvalues\u001b[0m\u001b[0;34m(\u001b[0m\u001b[0;34m)\u001b[0m\u001b[0;34m:\u001b[0m\u001b[0;34m\u001b[0m\u001b[0;34m\u001b[0m\u001b[0m\n\u001b[0;32m---> 92\u001b[0;31m             \u001b[0minput\u001b[0m \u001b[0;34m=\u001b[0m \u001b[0mmodule\u001b[0m\u001b[0;34m(\u001b[0m\u001b[0minput\u001b[0m\u001b[0;34m)\u001b[0m\u001b[0;34m\u001b[0m\u001b[0;34m\u001b[0m\u001b[0m\n\u001b[0m\u001b[1;32m     93\u001b[0m         \u001b[0;32mreturn\u001b[0m \u001b[0minput\u001b[0m\u001b[0;34m\u001b[0m\u001b[0;34m\u001b[0m\u001b[0m\n\u001b[1;32m     94\u001b[0m \u001b[0;34m\u001b[0m\u001b[0m\n",
      "\u001b[0;32m~/anaconda3/envs/sonosco/lib/python3.7/site-packages/torch/nn/modules/module.py\u001b[0m in \u001b[0;36m__call__\u001b[0;34m(self, *input, **kwargs)\u001b[0m\n\u001b[1;32m    491\u001b[0m             \u001b[0mresult\u001b[0m \u001b[0;34m=\u001b[0m \u001b[0mself\u001b[0m\u001b[0;34m.\u001b[0m\u001b[0m_slow_forward\u001b[0m\u001b[0;34m(\u001b[0m\u001b[0;34m*\u001b[0m\u001b[0minput\u001b[0m\u001b[0;34m,\u001b[0m \u001b[0;34m**\u001b[0m\u001b[0mkwargs\u001b[0m\u001b[0;34m)\u001b[0m\u001b[0;34m\u001b[0m\u001b[0;34m\u001b[0m\u001b[0m\n\u001b[1;32m    492\u001b[0m         \u001b[0;32melse\u001b[0m\u001b[0;34m:\u001b[0m\u001b[0;34m\u001b[0m\u001b[0;34m\u001b[0m\u001b[0m\n\u001b[0;32m--> 493\u001b[0;31m             \u001b[0mresult\u001b[0m \u001b[0;34m=\u001b[0m \u001b[0mself\u001b[0m\u001b[0;34m.\u001b[0m\u001b[0mforward\u001b[0m\u001b[0;34m(\u001b[0m\u001b[0;34m*\u001b[0m\u001b[0minput\u001b[0m\u001b[0;34m,\u001b[0m \u001b[0;34m**\u001b[0m\u001b[0mkwargs\u001b[0m\u001b[0;34m)\u001b[0m\u001b[0;34m\u001b[0m\u001b[0;34m\u001b[0m\u001b[0m\n\u001b[0m\u001b[1;32m    494\u001b[0m         \u001b[0;32mfor\u001b[0m \u001b[0mhook\u001b[0m \u001b[0;32min\u001b[0m \u001b[0mself\u001b[0m\u001b[0;34m.\u001b[0m\u001b[0m_forward_hooks\u001b[0m\u001b[0;34m.\u001b[0m\u001b[0mvalues\u001b[0m\u001b[0;34m(\u001b[0m\u001b[0;34m)\u001b[0m\u001b[0;34m:\u001b[0m\u001b[0;34m\u001b[0m\u001b[0;34m\u001b[0m\u001b[0m\n\u001b[1;32m    495\u001b[0m             \u001b[0mhook_result\u001b[0m \u001b[0;34m=\u001b[0m \u001b[0mhook\u001b[0m\u001b[0;34m(\u001b[0m\u001b[0mself\u001b[0m\u001b[0;34m,\u001b[0m \u001b[0minput\u001b[0m\u001b[0;34m,\u001b[0m \u001b[0mresult\u001b[0m\u001b[0;34m)\u001b[0m\u001b[0;34m\u001b[0m\u001b[0;34m\u001b[0m\u001b[0m\n",
      "\u001b[0;32m~/anaconda3/envs/sonosco/lib/python3.7/site-packages/torch/nn/modules/normalization.py\u001b[0m in \u001b[0;36mforward\u001b[0;34m(self, input)\u001b[0m\n\u001b[1;32m    155\u001b[0m     \u001b[0;32mdef\u001b[0m \u001b[0mforward\u001b[0m\u001b[0;34m(\u001b[0m\u001b[0mself\u001b[0m\u001b[0;34m,\u001b[0m \u001b[0minput\u001b[0m\u001b[0;34m)\u001b[0m\u001b[0;34m:\u001b[0m\u001b[0;34m\u001b[0m\u001b[0;34m\u001b[0m\u001b[0m\n\u001b[1;32m    156\u001b[0m         return F.layer_norm(\n\u001b[0;32m--> 157\u001b[0;31m             input, self.normalized_shape, self.weight, self.bias, self.eps)\n\u001b[0m\u001b[1;32m    158\u001b[0m \u001b[0;34m\u001b[0m\u001b[0m\n\u001b[1;32m    159\u001b[0m     \u001b[0;32mdef\u001b[0m \u001b[0mextra_repr\u001b[0m\u001b[0;34m(\u001b[0m\u001b[0mself\u001b[0m\u001b[0;34m)\u001b[0m\u001b[0;34m:\u001b[0m\u001b[0;34m\u001b[0m\u001b[0;34m\u001b[0m\u001b[0m\n",
      "\u001b[0;32m~/anaconda3/envs/sonosco/lib/python3.7/site-packages/torch/nn/functional.py\u001b[0m in \u001b[0;36mlayer_norm\u001b[0;34m(input, normalized_shape, weight, bias, eps)\u001b[0m\n\u001b[1;32m   1723\u001b[0m     \"\"\"\n\u001b[1;32m   1724\u001b[0m     return torch.layer_norm(input, normalized_shape, weight, bias, eps,\n\u001b[0;32m-> 1725\u001b[0;31m                             torch.backends.cudnn.enabled)\n\u001b[0m\u001b[1;32m   1726\u001b[0m \u001b[0;34m\u001b[0m\u001b[0m\n\u001b[1;32m   1727\u001b[0m \u001b[0;34m\u001b[0m\u001b[0m\n",
      "\u001b[0;31mRuntimeError\u001b[0m: Given normalized_shape=[3], expected input with shape [*, 3], but got input of size[32, 10, 51, 213]"
     ]
    }
   ],
   "source": [
    "trainer.start_training()"
   ]
  },
  {
   "cell_type": "code",
   "execution_count": null,
   "metadata": {
    "pycharm": {
     "name": "#%%\n"
    }
   },
   "outputs": [],
   "source": [
    "\n"
   ]
  }
 ],
 "metadata": {
  "kernelspec": {
   "display_name": "Python 3",
   "language": "python",
   "name": "python3"
  },
  "language_info": {
   "codemirror_mode": {
    "name": "ipython",
    "version": 3
   },
   "file_extension": ".py",
   "mimetype": "text/x-python",
   "name": "python",
   "nbconvert_exporter": "python",
   "pygments_lexer": "ipython3",
   "version": "3.6.7"
  },
  "pycharm": {
   "stem_cell": {
    "cell_type": "raw",
    "metadata": {
     "collapsed": false
    },
    "source": []
   }
  }
 },
 "nbformat": 4,
 "nbformat_minor": 4
}
